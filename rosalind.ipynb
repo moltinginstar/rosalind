{
 "cells": [
  {
   "cell_type": "code",
   "execution_count": 3,
   "metadata": {},
   "outputs": [],
   "source": [
    "def read_file(file):\n",
    "  with open(file, \"r\") as f:\n",
    "    return f.read().strip()"
   ]
  },
  {
   "cell_type": "code",
   "execution_count": 4,
   "metadata": {},
   "outputs": [],
   "source": [
    "def read_fasta(file):\n",
    "  res = []\n",
    "  i = -1\n",
    "  with open(file, \"r\") as f:\n",
    "    for line in f:\n",
    "      if line.startswith(\">\"):\n",
    "        res.append([])\n",
    "        i += 1\n",
    "      else:\n",
    "        res[i].append(line[:-1])\n",
    "\n",
    "  return \"\\n\".join(\"\".join(x) for x in res)"
   ]
  },
  {
   "cell_type": "markdown",
   "metadata": {},
   "source": [
    "## Counting DNA Nucleotides"
   ]
  },
  {
   "cell_type": "code",
   "execution_count": 5,
   "metadata": {},
   "outputs": [],
   "source": [
    "def count_nucleotides(s):\n",
    "  a, c, g, t = s.count(\"A\"), s.count(\"C\"), s.count(\"G\"), s.count(\"T\")\n",
    "\n",
    "  return f\"{a} {c} {g} {t}\""
   ]
  },
  {
   "cell_type": "code",
   "execution_count": 6,
   "metadata": {},
   "outputs": [
    {
     "name": "stdout",
     "output_type": "stream",
     "text": [
      "202 235 205 221\n"
     ]
    }
   ],
   "source": [
    "print(count_nucleotides(read_file(\"rosalind_dna.txt\")))"
   ]
  },
  {
   "cell_type": "markdown",
   "metadata": {},
   "source": [
    "## Transcribing DNA into RNA"
   ]
  },
  {
   "cell_type": "code",
   "execution_count": 7,
   "metadata": {},
   "outputs": [],
   "source": [
    "def dna2rna(s):\n",
    "  return s.replace(\"T\", \"U\")"
   ]
  },
  {
   "cell_type": "code",
   "execution_count": 8,
   "metadata": {},
   "outputs": [
    {
     "name": "stdout",
     "output_type": "stream",
     "text": [
      "GUGUGUCAACAGGAACACCUGACAAGACAUAACAACCGACUCCUCUUUGGUGACGGCCGUGGUUGAACCGUCGAACUAUCAGAAGAUCACUUGAUUUAUUUAAUCCACUGCCCUCGCGCAUCGCACCUCGCGAUCGCCUCGCUUAGCAUAGAUGAGAACUGGCUAUUGACUGCGAUCGCACUGGUAUUAAGCGCAGGAUGUUAAACACUGAUUCGGAGCCGCUCAGGUAUGUCCUCCUGGGGGUCCCCUCCACUGCGAUUGUAGAGCGGGAACCUUCACUUGUCGGACGUAUUUCGACGUCUUCGAUCACCAUGCAGGAGACCAAACAUGGGUUGCAACGACCCAUCUUGCAUUAGCGAUUCCUAUAAGACGACGCACGAAUACUACGGCAGAAGUACAGAAAGUUUUAAACGUAGACUGUACUCCAGAUUACAGCAUCCGUGUUAGAUGCUUAAUGGAACCCGAGUUCUCGACAAACAUUGAUUCUUUGACGGGUGAUACAAAGUUGGUGGCCUCAUGCCUAGAAGUUUGAUUCCGUUGAAUAGGAGCGCAACACUCGGCUCUCUUUUUGUACGGAACAACGCUGCUGCACGCCAGUCUUAGCGUCCGAGUAUUCCACGCUGGUGGUCUACUGGCUUUUAGAGUAUUAGAUCUCGUAGGAUGUAGGCAUACUGCGUUACCCGCCACUGAAUCGAAGAAUCGUUCCGCGAUUAACCUCGGAAGCGGUCAAAAGCUCCAAAAAACUCACACUCAGGAGUCCUGCAAUGGUUCACGCCAAUACAUUACGAGUUAGUCACUUCCGCAGAUUUCAGCCACUGGACCGGACAACGGGGUGUGAAAGACUAACUCGGUUAUCAAACGGCGAUACAAACAUUUAAACGCAGUGAUGCACGGUUGAGCAAACACCGGGAAUCCUUUGUACAUAACAUAACCGUGCCUUUCUGCG\n"
     ]
    }
   ],
   "source": [
    "print(dna2rna(read_file(\"rosalind_rna.txt\")))"
   ]
  },
  {
   "cell_type": "markdown",
   "metadata": {},
   "source": [
    "## Complementing a Strand of DNA"
   ]
  },
  {
   "cell_type": "code",
   "execution_count": 9,
   "metadata": {},
   "outputs": [],
   "source": [
    "def reverse_complement(s):\n",
    "  return s.translate(str.maketrans(\"ACGT\", \"TGCA\"))[::-1]"
   ]
  },
  {
   "cell_type": "code",
   "execution_count": 10,
   "metadata": {},
   "outputs": [
    {
     "name": "stdout",
     "output_type": "stream",
     "text": [
      "ATTATGTATTGTACGCTCCTACGTGAAGGAATCCATTGATGAATACTGTGAAAGGTTGCTGCAAAAGAGACTCATATGCTTCAATAGCCTCCTTAGACAGTGGCAGGACGAAGCAACCTTTCCCAAAAATTTTCTTAGAACCAAGGACAACGTGGTGAGCTAGGTTTTATCTGGTAGAGCTCTCGATACAGTGCCTTGATTCAACTGCGCAGGTTATGACAGGCCCAGTATGTATGGTAGCGAAACTCAATAATAACAGTAGATGCCGAGAGTTCGACCTTTCTTGTCTGGTTCCAACTATGTACGCTATATTCTGCAATAAGATATAAGCCGATTACACTTCACGTAGGGGAACCTCGGGCGCGGTTACGACACTTGTAAACCGGTTTCTTTACGTTATTGAGTACTTAACACTTTGACGCCGGTTGAGAATATTTCGTCGCACAGACCCCCTATACTATGATTTTCGACGCTCTTTTCAACTATCGCTGGGGTTGCTATCATTTCCGTTAGTTGTCACATAAATGTCATGTCACTGAAGGTTAACCCGATCATCTGTGTGCTGGAACCCCTCTAGTGGTTTCTCATGCGGGTTGGGCCTTGGTCCGACTGCCGGGATCACACGAATATCAACCAGAGACTGCGTAGCACGGTGACCCTCGACGCCACCGCCAATGACTGTCCCGAATTTGCGTGGAATGTCTATGCTCTCATAAGTGGGCCCTAGGGGGTCTGGCCGTGCTTGCTCGGTAGATGTGTGATGATAACGGGGTAACTAGTTTATTATTCCGCTATGAGCATTGCTTGAACCACGTTCGGCATTTGAACTATTTTTGGTATTGGCGTGACCACGAGGGCATTTAACGCCTCCGAGAGAACCGGCTGTGTGCGTACATGTGGTACCTAGGACCGTGCTCCCACCCGCGATTGGAGCGCTGTCTAATGCACTCGGC\n"
     ]
    }
   ],
   "source": [
    "print(reverse_complement(read_file(\"rosalind_revc.txt\")))"
   ]
  },
  {
   "cell_type": "markdown",
   "metadata": {},
   "source": [
    "## Finding a Motif in DNA"
   ]
  },
  {
   "cell_type": "code",
   "execution_count": 11,
   "metadata": {},
   "outputs": [],
   "source": [
    "def find_motif(p, t: str):\n",
    "  return \" \".join(str(i + 1) for i in range(len(t)) if t.startswith(p, i))"
   ]
  },
  {
   "cell_type": "code",
   "execution_count": 12,
   "metadata": {},
   "outputs": [
    {
     "name": "stdout",
     "output_type": "stream",
     "text": [
      "2 20 188 257 289 315 322 361 368 384 402 446 487 523 559 631 673 709 716 734 803 828 835 856 910\n"
     ]
    }
   ],
   "source": [
    "subs = read_file(\"rosalind_subs.txt\").split(\"\\n\")\n",
    "print(find_motif(subs[1], subs[0]))"
   ]
  },
  {
   "cell_type": "markdown",
   "metadata": {},
   "source": [
    "## Translating RNA into Protein"
   ]
  },
  {
   "cell_type": "code",
   "execution_count": 13,
   "metadata": {},
   "outputs": [],
   "source": [
    "START_CODON_DNA = \"ATG\"\n",
    "STOP_CODON_AMBER_DNA = \"TAG\"\n",
    "STOP_CODON_OPAL_DNA = \"TGA\"\n",
    "STOP_CODON_OCHRE_DNA = \"TAA\"\n",
    "\n",
    "GENETIC_CODE_DNA = {\n",
    "  \"AAA\": \"K\", \"AAC\": \"N\", \"AAG\": \"K\", \"AAT\": \"N\",\n",
    "  \"ACA\": \"T\", \"ACC\": \"T\", \"ACG\": \"T\", \"ACT\": \"T\",\n",
    "  \"AGA\": \"R\", \"AGC\": \"S\", \"AGG\": \"R\", \"AGT\": \"S\",\n",
    "  \"ATA\": \"I\", \"ATC\": \"I\", START_CODON_DNA: \"M\", \"ATT\": \"I\",\n",
    "  \"CAA\": \"Q\", \"CAC\": \"H\", \"CAG\": \"Q\", \"CAT\": \"H\",\n",
    "  \"CCA\": \"P\", \"CCC\": \"P\", \"CCG\": \"P\", \"CCT\": \"P\",\n",
    "  \"CGA\": \"R\", \"CGC\": \"R\", \"CGG\": \"R\", \"CGT\": \"R\",\n",
    "  \"CTA\": \"L\", \"CTC\": \"L\", \"CTG\": \"L\", \"CTT\": \"L\",\n",
    "  \"GAA\": \"E\", \"GAC\": \"D\", \"GAG\": \"E\", \"GAT\": \"D\",\n",
    "  \"GCA\": \"A\", \"GCC\": \"A\", \"GCG\": \"A\", \"GCT\": \"A\",\n",
    "  \"GGA\": \"G\", \"GGC\": \"G\", \"GGG\": \"G\", \"GGT\": \"G\",\n",
    "  \"GTA\": \"V\", \"GTC\": \"V\", \"GTG\": \"V\", \"GTT\": \"V\",\n",
    "  STOP_CODON_OCHRE_DNA: \"*\", \"TAC\": \"Y\", STOP_CODON_AMBER_DNA: \"*\", \"TAT\": \"Y\",\n",
    "  \"TCA\": \"S\", \"TCC\": \"S\", \"TCG\": \"S\", \"TCT\": \"S\",\n",
    "  STOP_CODON_OPAL_DNA: \"*\", \"TGC\": \"C\", \"TGG\": \"W\", \"TGT\": \"C\",\n",
    "  \"TTA\": \"L\", \"TTC\": \"F\", \"TTG\": \"L\", \"TTT\": \"F\"\n",
    "}\n",
    "\n",
    "def rna2protein(s):\n",
    "  return \"\".join(GENETIC_CODE_DNA[s[i:i + 3].replace(\"U\", \"T\")] for i in range(0, len(s), 3))"
   ]
  },
  {
   "cell_type": "code",
   "execution_count": 14,
   "metadata": {},
   "outputs": [
    {
     "name": "stdout",
     "output_type": "stream",
     "text": [
      "MEPCTSPWRRPKNLRICLSNSTGREIGLVVTLRTSTTAAISCILITARGVLKIKLAALPRGEDELGVILAYLSPPDTNIRSRLLSPRNGGLFRHEAGPKLSRSINARRSKSPVHKSLRKQNFRGNLPCPPALLHKRSPVHDYLLFFYACIGVKARAAGAKYLVSVPKFRCRDSRDVSLNNFNSHWHVNVDSTKYQQDQLHTRESNLLQSLSHSFLASRTVISDRQRFQFALIPTRSGTDTRQRLSQAPACRVACSTEESPYKQLYTGIAWLSPCRVDIVELASLCVGRRRTSLKVDKKVIALTSVWCVWRGVSRPHNGRHEGGDGRGFQITTGPRRDQSIRFLGVIARSLYSLDKATRSFSRTLGHDVTLPKSDQRFGGRICTLVGKNNTPYAANTATCLSCWCGCQDSARNNETKRLIRLVSYTQAPSETSFTPTLHPTLPVFQATQQTVSTKRTPSKRSGNRRIQRRPPPRQMPAIREPTCRDNKGGSFRGNCKRVGDYHVRTREGGLDCAVPVFLDPDKTNHEDVLVTTLMLGLVSLGGYDVLRACVGTRTAGRHFVMCRGWAILRGHFSVPKAPGHDHDLITSGVVFCWGYTTIGPKLKGDAGLYETLPRAAGSAWAYQVRQSSMGTRRFWTAAGCTRSSLSDGIEMLNLYSHGLLTLMRSRNPGVPVLCSPGKRRQPHQSVSECPTLSKPTWVMTTKSKGASASPEGTVNSTTPACSIFAQALPFLDYLEVCSILLLAYSTLLCKLLLHPPTGDPGQQPANTMEFMRQLFSHAVSTRPKYRPSPRRRHRVQPGLTVRLRGYNSRFSSVSSLHLRCRPVRITLLIVLRGSRDINAACLKGEQYTMQARLTGELFSPAVRRQQKPESTLVTHCVCRSGLRQELLQCSKVSCYLEGYAWTTNFGFAHIICFTSSSRWEHGLRTKRERSTYRSYTLDTAAGGVTYAFVSLQFHCRLSSAEILIMRVSSFSTRRKLAFSLCAAYDRKVLVYGNLRHGRTRLLHYLVMNTAKASYCAGNLRAHSKLPCKTSLPYARAGKRMVVSDQQNGKRRKSSTDPLEYYACVNTSFARCVPLHGGNSKRLRLEQGWHCKVEVRFLWDARRTGLERAIDSNKNRVTCLSGFNSSFTAKATLRVVAGTLTLSANAKVKKYIDWVAVANVGRSPPQGNVPTARTCRMGLVNSESSCRCTYKLPIYWPSYPEIMNSGVASFIQVRAKPILFVGCLPAEALIVEVTLLQFHCLPSHLGYGHSVGTQSVQILTMSVASFGWIPGTAANHPFHKKLPVRLSNDPHVPLRSRCIAEYSIGMRPFLVLQGFSSPTQDSPDRRSVRAEQVWIRCSLLTHVLKVKSALQGPSELRPYLQAENIGIVAQSTTRSGSPRWGTPVFLSSAAAKVQTRAWEDPGEKAVADTFDSMYLSGCYKFNANTCFARRVETCFSYLVRRAHPFGPHTCAHLQFPVGPQRSPTTPHWRYRGKPLLALADRESCKQPLVEGQTVVNAASSSVVSSLIETRYVHDSSIARFGQSSLLAGRCKAFHAGRMNPHSLFRISESTCLIDICARHLQPYRGKQFISQCSITRPCVDHLSIFSCFRRGQSSLDSRRRALISDGAGRWLQTFSTPNRRIARPFQRYDNYAESAQYINSKGMQGTCGALPAVRNLRCPGTSKLSDKRQDDPVRLFWRHRMPCRVQVCVERSEFNTQAKRKSVKGASLSQNSTSVDQWSYCILGASTSCRSVGSLNVKSSWTLIKVPELGSSSVRSCGGGKSWLLVGGHRSGSASLVHFPIGDAAVHSLLHRSRRYIPTLMGLKVEATNPRENVHVSYVLARILGGGVWRRNSRCLMPLQRSSKLSYPIGSSGLPGQFFKDPSAWRLTVEREAAVLAAESASQSLSHRTSALDYLCESVSQELHFSPEVVHRAISYIASRLKAYAHDTHTLHSRVEETILRDESRSSRWLGQVQPLVGTKLAIRSEVFHFAPCQLLASGHSSAFKYALQMKRSGQLNGSDWPSMLSATVATHGLVSSRLRSSHAKPNSLAKGHPDYVYSTMREPDRQHMHGGLRSFFNDQLVDGSLKRPKFDQHLHWPTKSILKETTGIQKMRTSETAPDSFSTLTSARLVLLTLPREKSGRRKKVSRRRFEFIHVQYLSSQDVLVPAAVAAHGLGRYLFPRASRFGSVWVLIGVSHCDNVIIRYSTTSRIFYPPTSNLDGASNSFYARSLEAHDRGYINSHYIWRFANSSSEAHYPSVMHQSGDFISRFRAEKKFTDFRSAAGIGHDRATLVNLLRSPVVRSYATPVAGGIIRFISLAWIVRTSGPSSGGTSVPAYKTATEYERVPVMLGFRVLGNPRRRLRRSTGLVVWGATIVNILLPRLAKFASRSAKSTQCFVQTVTVFNTHGHIGAHDPQPGAGERSGGGHHVSEDGHHFSPNTRSILPRLSGTWTSIEKFGYCSQISYGDRPAEYSTLCLLSEDSLIHCSFPAQDTQTLFLHYVTNMPRITIISGKLFCRVAHTVAPHPRLCETTVYRGVSHGQRNDTATAKTVRAMKRIKDGSHMWGSSRGYRLSTSVIAIRLLRCPSDNPTEQVFLSPITIQECLENFEQYIATQGLPQFPRWPERLRWVHRIYTLVRSLLCSRLCGGNSSVPSSTGRTTRISQTVTATKSLWRLTVVLLALEYTKHVTVLYANHETCRLRASASTPLRCYPYGVYFCRSSNCHPGSLWTWDHDRDQRCSHYS*\n"
     ]
    }
   ],
   "source": [
    "print(rna2protein(read_file(\"rosalind_prot.txt\")))"
   ]
  },
  {
   "cell_type": "markdown",
   "metadata": {},
   "source": [
    "## Open Reading Frames"
   ]
  },
  {
   "cell_type": "code",
   "execution_count": 15,
   "metadata": {},
   "outputs": [],
   "source": [
    "from collections import defaultdict\n",
    "\n",
    "def ssorfs(s):\n",
    "  res = defaultdict(list)\n",
    "  curi = defaultdict(list)\n",
    "\n",
    "  for i in range(len(s)):\n",
    "    codon = s[i:i + 3]\n",
    "    frame = i % 3\n",
    "\n",
    "    if codon == START_CODON_DNA:\n",
    "      curi[frame].append(i)\n",
    "\n",
    "    for j in curi[frame]:\n",
    "      if codon in GENETIC_CODE_DNA:\n",
    "        res[f\"{frame}_{j}\"].append(GENETIC_CODE_DNA[codon])\n",
    "\n",
    "    if codon == STOP_CODON_AMBER_DNA or codon == STOP_CODON_OCHRE_DNA or codon == STOP_CODON_OPAL_DNA:\n",
    "      curi[frame] = []\n",
    "\n",
    "  return [\"\".join(orf[:-1]) for orf in res.values() if orf[-1] == \"*\"]\n",
    "\n",
    "def orfs(s):\n",
    "  return \"\\n\".join(list({*ssorfs(s), *ssorfs(reverse_complement(s))}))"
   ]
  },
  {
   "cell_type": "code",
   "execution_count": 16,
   "metadata": {},
   "outputs": [
    {
     "name": "stdout",
     "output_type": "stream",
     "text": [
      "MPVGEPSQSMCERYSTQSADNAKATLPGATYHACDTNIVHSKTRQGYEHGVNFTGLTRVVLILLPATIRFLVRR\n",
      "MLIPCPDSIECSCYGDCRAKHASFWFM\n",
      "M\n",
      "MTFHQRGRLPAPI\n",
      "MCERYSTQSADNAKATLPGATYHACDTNIVHSKTRQGYEHGVNFTGLTRVVLILLPATIRFLVRR\n",
      "MEWPCLYRAQIPSSVLATATVALNTRVFGLCSVRSLT\n",
      "MTV\n",
      "MYAIFPDL\n",
      "MLP\n",
      "MLVPLACLRMYYVGIARVIGSTRQCCLSVVGGLCRIAFTHRLAGLAYRHDVDVVHANLRQRISMTFHQRGRLPAPI\n",
      "MCKEPTERQFQRLTRKRIVAGKRISTTLVSPVKFTPCSYPWRVFECTMLVSHA\n",
      "MRFPSASTRILSVGGCGEPDN\n",
      "MQDLQFQRTESAHDCMTSRVENVRHLSRFVATNLERWRTFVEANLFLVVVTKPASVPLRLRSVFYDFPPVSQGHLVGV\n",
      "MTSRVENVRHLSRFVATNLERWRTFVEANLFLVVVTKPASVPLRLRSVFYDFPPVSQGHLVGV\n",
      "MAYIRGSKPLLSGSHETSLRPS\n",
      "MCTLRPLKLQVLH\n",
      "MATPLGNSRPSLCVSRPQAQGFYP\n",
      "MLVSHA\n",
      "MAYILYTTCHTVMCTLRPLKLQVLH\n",
      "MESGHGISMATPLGNSRPSLCVSRPQAQGFYP\n",
      "MG\n",
      "MM\n",
      "MSQWRGSF\n",
      "MSPSTGSLASASLPIGSLPTAED\n",
      "MYYVGIARVIGSTRQCCLSVVGGLCRIAFTHRLAGLAYRHDVDVVHANLRQRISMTFHQRGRLPAPI\n"
     ]
    }
   ],
   "source": [
    "print(orfs(read_fasta(\"rosalind_orf.txt\")))"
   ]
  },
  {
   "cell_type": "markdown",
   "metadata": {},
   "source": [
    "## RNA Splicing"
   ]
  },
  {
   "cell_type": "code",
   "execution_count": 17,
   "metadata": {},
   "outputs": [],
   "source": [
    "def splice_rna(s, introns):\n",
    "  for intron in introns:\n",
    "    s = s.replace(intron, \"\")\n",
    "\n",
    "  return rna2protein(s)"
   ]
  },
  {
   "cell_type": "code",
   "execution_count": 18,
   "metadata": {},
   "outputs": [
    {
     "name": "stdout",
     "output_type": "stream",
     "text": [
      "MVILHLRHSCVKYSPLSVSHWIYGVLVLAFSLVNGVPLLAARIVRASKIESLSTNCVIVGVASKRDSILRCSKLSVLILANNIDRPTLTAASANYRPGYTYGRPLRKKHLFTPRSQLLQNRRFARLPYGFCRSYPGTIRRRVGLDDALKKFLSHVSGPSTDSLWYRVRPTRSDPNGLPSSYRKLRLQ*\n"
     ]
    }
   ],
   "source": [
    "s, *introns = read_fasta(\"rosalind_splc.txt\").split(\"\\n\")\n",
    "print(splice_rna(s, introns))"
   ]
  },
  {
   "cell_type": "markdown",
   "metadata": {},
   "source": [
    "## Finding a Spliced Motif"
   ]
  },
  {
   "cell_type": "code",
   "execution_count": 19,
   "metadata": {},
   "outputs": [],
   "source": [
    "def find_spliced_motif(t: str, p: str):\n",
    "  res = []\n",
    "  i = 0\n",
    "  for c in p:\n",
    "    while i < len(t):\n",
    "      i += 1\n",
    "      if t[i - 1] == c:\n",
    "        res.append(i)\n",
    "        break\n",
    "\n",
    "  return \" \".join(map(str, res))"
   ]
  },
  {
   "cell_type": "code",
   "execution_count": 34,
   "metadata": {},
   "outputs": [
    {
     "name": "stdout",
     "output_type": "stream",
     "text": [
      "3 4 5 10 11 12 15 20 24 25 27 38 40 47 49 50 52 58 59\n"
     ]
    }
   ],
   "source": [
    "print(find_spliced_motif(*read_fasta(\"rosalind_sseq.txt\").split(\"\\n\")))"
   ]
  },
  {
   "cell_type": "markdown",
   "metadata": {},
   "source": [
    "## Counting Point Mutations"
   ]
  },
  {
   "cell_type": "code",
   "execution_count": 23,
   "metadata": {},
   "outputs": [],
   "source": [
    "def count_point_mutations(s: str, t: str):\n",
    "  return sum(s[i] != t[i] for i in range(len(s)))"
   ]
  },
  {
   "cell_type": "code",
   "execution_count": 26,
   "metadata": {},
   "outputs": [
    {
     "name": "stdout",
     "output_type": "stream",
     "text": [
      "484\n"
     ]
    }
   ],
   "source": [
    "print(count_point_mutations(*read_file(\"rosalind_hamm.txt\").split(\"\\n\")))"
   ]
  },
  {
   "cell_type": "markdown",
   "metadata": {},
   "source": [
    "## Finding a Shared Motif"
   ]
  },
  {
   "cell_type": "code",
   "execution_count": 477,
   "metadata": {},
   "outputs": [],
   "source": [
    "def lcs(a: str, b: str):\n",
    "  m = len(a) + 1\n",
    "  n = len(b) + 1\n",
    "\n",
    "  table = [[0] * n for _ in range(2)]\n",
    "\n",
    "  maxlen = 0\n",
    "  maxmatch = \"\"\n",
    "\n",
    "  for i in range(1, m):\n",
    "    for j in range(1, n):\n",
    "      if a[i - 1] == b[j - 1]:\n",
    "        table[-1][j] = table[-2][j - 1] + 1\n",
    "\n",
    "        if table[-1][j] > maxlen:\n",
    "          maxlen = table[-1][j]\n",
    "          maxmatch = a[i - maxlen:i]\n",
    "      else:\n",
    "        table[-1][j] = 0\n",
    "\n",
    "    table[-2] = table[-1]\n",
    "    table[-1] = [0] * n\n",
    "\n",
    "  return maxmatch\n",
    "\n",
    "def find_shared_motif(ss: list[str]):\n",
    "  # i = 0\n",
    "  # sorted_ss = sorted(ss, key=lambda s: len(s))\n",
    "  # motif = lcs(sorted_ss[0], sorted_ss[1])\n",
    "  # if i in range(2, len(sorted_ss)):\n",
    "  #   motif = lcs(motif, sorted_ss[i])\n",
    "\n",
    "  # return motif\n",
    "\n",
    "  a, b, *rest = sorted(ss, key=lambda s: len(s))\n",
    "  motif = lcs(a, b)\n",
    "\n",
    "  l = len(motif)\n",
    "  while l > 0:\n",
    "    for i in range(len(motif) - l + 1):\n",
    "      lmer = motif[i:i + l]\n",
    "\n",
    "      shared = True\n",
    "      for s in rest:\n",
    "        shared = shared and lmer in s\n",
    "        if not shared:\n",
    "          break\n",
    "\n",
    "      if shared:\n",
    "        return lmer\n",
    "\n",
    "    l -= 1\n",
    "\n",
    "  return \"\""
   ]
  },
  {
   "cell_type": "code",
   "execution_count": 478,
   "metadata": {},
   "outputs": [
    {
     "name": "stdout",
     "output_type": "stream",
     "text": [
      "TTGGTTACCAGGTTGAAGATACAGTAGGTCACCGCATAACTATGTTATCCGGCGAGTGAGGCCTAGAACGAAAGGGTTACTGGCCCGTCCGCACGGTTTCCGGAGTGCCTTCTTCGGATTAGGATGCTGAAGACCATGTAAGCGAGGATCTCATTCTGGTGGATTATCGCTTCTAACTAGTTCCATACCCGCAGGGTCCTCTAGCCTAATAACTTCCCCGTGGAACTGACCGTTTCTCTACTCGCGCGGAGTAGCCTTACGCGTGCAGCTCTATTGTGGGAGCGCA\n"
     ]
    }
   ],
   "source": [
    "print(find_shared_motif(read_fasta(\"rosalind_lcsm.txt\").split(\"\\n\")))"
   ]
  },
  {
   "cell_type": "markdown",
   "metadata": {},
   "source": [
    "## Enumerating Gene Orders"
   ]
  },
  {
   "cell_type": "code",
   "execution_count": 115,
   "metadata": {
    "notebookRunGroups": {
     "groupValue": "1"
    }
   },
   "outputs": [],
   "source": [
    "from itertools import permutations\n",
    "\n",
    "def permutations(iterable):\n",
    "  return [(*p[:i], iterable[0], *p[i:]) for p in permutations(iterable[1:]) for i in range(len(p) + 1)] if len(iterable) > 1 else [tuple(iterable)]\n",
    " \n",
    "def enumerate_gene_orders(n: int):\n",
    "  orders = list(permutations(range(1, n + 1)))\n",
    "  l = len(orders)\n",
    "\n",
    "  return l, orders"
   ]
  },
  {
   "cell_type": "code",
   "execution_count": 116,
   "metadata": {},
   "outputs": [
    {
     "name": "stdout",
     "output_type": "stream",
     "text": [
      "120\n",
      "(1, 2, 3, 4, 5)\n",
      "(2, 1, 3, 4, 5)\n",
      "(2, 3, 1, 4, 5)\n",
      "(2, 3, 4, 1, 5)\n",
      "(2, 3, 4, 5, 1)\n",
      "(1, 3, 2, 4, 5)\n",
      "(3, 1, 2, 4, 5)\n",
      "(3, 2, 1, 4, 5)\n",
      "(3, 2, 4, 1, 5)\n",
      "(3, 2, 4, 5, 1)\n",
      "(1, 3, 4, 2, 5)\n",
      "(3, 1, 4, 2, 5)\n",
      "(3, 4, 1, 2, 5)\n",
      "(3, 4, 2, 1, 5)\n",
      "(3, 4, 2, 5, 1)\n",
      "(1, 3, 4, 5, 2)\n",
      "(3, 1, 4, 5, 2)\n",
      "(3, 4, 1, 5, 2)\n",
      "(3, 4, 5, 1, 2)\n",
      "(3, 4, 5, 2, 1)\n",
      "(1, 2, 4, 3, 5)\n",
      "(2, 1, 4, 3, 5)\n",
      "(2, 4, 1, 3, 5)\n",
      "(2, 4, 3, 1, 5)\n",
      "(2, 4, 3, 5, 1)\n",
      "(1, 4, 2, 3, 5)\n",
      "(4, 1, 2, 3, 5)\n",
      "(4, 2, 1, 3, 5)\n",
      "(4, 2, 3, 1, 5)\n",
      "(4, 2, 3, 5, 1)\n",
      "(1, 4, 3, 2, 5)\n",
      "(4, 1, 3, 2, 5)\n",
      "(4, 3, 1, 2, 5)\n",
      "(4, 3, 2, 1, 5)\n",
      "(4, 3, 2, 5, 1)\n",
      "(1, 4, 3, 5, 2)\n",
      "(4, 1, 3, 5, 2)\n",
      "(4, 3, 1, 5, 2)\n",
      "(4, 3, 5, 1, 2)\n",
      "(4, 3, 5, 2, 1)\n",
      "(1, 2, 4, 5, 3)\n",
      "(2, 1, 4, 5, 3)\n",
      "(2, 4, 1, 5, 3)\n",
      "(2, 4, 5, 1, 3)\n",
      "(2, 4, 5, 3, 1)\n",
      "(1, 4, 2, 5, 3)\n",
      "(4, 1, 2, 5, 3)\n",
      "(4, 2, 1, 5, 3)\n",
      "(4, 2, 5, 1, 3)\n",
      "(4, 2, 5, 3, 1)\n",
      "(1, 4, 5, 2, 3)\n",
      "(4, 1, 5, 2, 3)\n",
      "(4, 5, 1, 2, 3)\n",
      "(4, 5, 2, 1, 3)\n",
      "(4, 5, 2, 3, 1)\n",
      "(1, 4, 5, 3, 2)\n",
      "(4, 1, 5, 3, 2)\n",
      "(4, 5, 1, 3, 2)\n",
      "(4, 5, 3, 1, 2)\n",
      "(4, 5, 3, 2, 1)\n",
      "(1, 2, 3, 5, 4)\n",
      "(2, 1, 3, 5, 4)\n",
      "(2, 3, 1, 5, 4)\n",
      "(2, 3, 5, 1, 4)\n",
      "(2, 3, 5, 4, 1)\n",
      "(1, 3, 2, 5, 4)\n",
      "(3, 1, 2, 5, 4)\n",
      "(3, 2, 1, 5, 4)\n",
      "(3, 2, 5, 1, 4)\n",
      "(3, 2, 5, 4, 1)\n",
      "(1, 3, 5, 2, 4)\n",
      "(3, 1, 5, 2, 4)\n",
      "(3, 5, 1, 2, 4)\n",
      "(3, 5, 2, 1, 4)\n",
      "(3, 5, 2, 4, 1)\n",
      "(1, 3, 5, 4, 2)\n",
      "(3, 1, 5, 4, 2)\n",
      "(3, 5, 1, 4, 2)\n",
      "(3, 5, 4, 1, 2)\n",
      "(3, 5, 4, 2, 1)\n",
      "(1, 2, 5, 3, 4)\n",
      "(2, 1, 5, 3, 4)\n",
      "(2, 5, 1, 3, 4)\n",
      "(2, 5, 3, 1, 4)\n",
      "(2, 5, 3, 4, 1)\n",
      "(1, 5, 2, 3, 4)\n",
      "(5, 1, 2, 3, 4)\n",
      "(5, 2, 1, 3, 4)\n",
      "(5, 2, 3, 1, 4)\n",
      "(5, 2, 3, 4, 1)\n",
      "(1, 5, 3, 2, 4)\n",
      "(5, 1, 3, 2, 4)\n",
      "(5, 3, 1, 2, 4)\n",
      "(5, 3, 2, 1, 4)\n",
      "(5, 3, 2, 4, 1)\n",
      "(1, 5, 3, 4, 2)\n",
      "(5, 1, 3, 4, 2)\n",
      "(5, 3, 1, 4, 2)\n",
      "(5, 3, 4, 1, 2)\n",
      "(5, 3, 4, 2, 1)\n",
      "(1, 2, 5, 4, 3)\n",
      "(2, 1, 5, 4, 3)\n",
      "(2, 5, 1, 4, 3)\n",
      "(2, 5, 4, 1, 3)\n",
      "(2, 5, 4, 3, 1)\n",
      "(1, 5, 2, 4, 3)\n",
      "(5, 1, 2, 4, 3)\n",
      "(5, 2, 1, 4, 3)\n",
      "(5, 2, 4, 1, 3)\n",
      "(5, 2, 4, 3, 1)\n",
      "(1, 5, 4, 2, 3)\n",
      "(5, 1, 4, 2, 3)\n",
      "(5, 4, 1, 2, 3)\n",
      "(5, 4, 2, 1, 3)\n",
      "(5, 4, 2, 3, 1)\n",
      "(1, 5, 4, 3, 2)\n",
      "(5, 1, 4, 3, 2)\n",
      "(5, 4, 1, 3, 2)\n",
      "(5, 4, 3, 1, 2)\n",
      "(5, 4, 3, 2, 1)\n"
     ]
    }
   ],
   "source": [
    "l, orders = enumerate_gene_orders(int(read_file(\"rosalind_perm.txt\")))\n",
    "print(l)\n",
    "for o in orders:\n",
    "  print(o)"
   ]
  },
  {
   "cell_type": "markdown",
   "metadata": {},
   "source": [
    "## Enumerating k-mers Lexicographically"
   ]
  },
  {
   "cell_type": "code",
   "execution_count": 199,
   "metadata": {},
   "outputs": [],
   "source": [
    "def enumerate_kmers(alphabet: list[str], k=None):\n",
    "  if k is None:\n",
    "    k = len(alphabet)\n",
    "\n",
    "  if k == 0:\n",
    "    return [()]\n",
    "  elif k == 1:\n",
    "    return [(c,) for c in alphabet]\n",
    "\n",
    "  res = []\n",
    "  for c in alphabet:\n",
    "    new_alphabet = [a for a in alphabet]\n",
    "    res.extend(map(lambda x: (c, *x), enumerate_kmers(new_alphabet, k - 1)))\n",
    "\n",
    "  return res"
   ]
  },
  {
   "cell_type": "code",
   "execution_count": 201,
   "metadata": {},
   "outputs": [
    {
     "name": "stdout",
     "output_type": "stream",
     "text": [
      "AAA\n",
      "AAB\n",
      "AAC\n",
      "AAD\n",
      "AAE\n",
      "AAF\n",
      "AAG\n",
      "AAH\n",
      "ABA\n",
      "ABB\n",
      "ABC\n",
      "ABD\n",
      "ABE\n",
      "ABF\n",
      "ABG\n",
      "ABH\n",
      "ACA\n",
      "ACB\n",
      "ACC\n",
      "ACD\n",
      "ACE\n",
      "ACF\n",
      "ACG\n",
      "ACH\n",
      "ADA\n",
      "ADB\n",
      "ADC\n",
      "ADD\n",
      "ADE\n",
      "ADF\n",
      "ADG\n",
      "ADH\n",
      "AEA\n",
      "AEB\n",
      "AEC\n",
      "AED\n",
      "AEE\n",
      "AEF\n",
      "AEG\n",
      "AEH\n",
      "AFA\n",
      "AFB\n",
      "AFC\n",
      "AFD\n",
      "AFE\n",
      "AFF\n",
      "AFG\n",
      "AFH\n",
      "AGA\n",
      "AGB\n",
      "AGC\n",
      "AGD\n",
      "AGE\n",
      "AGF\n",
      "AGG\n",
      "AGH\n",
      "AHA\n",
      "AHB\n",
      "AHC\n",
      "AHD\n",
      "AHE\n",
      "AHF\n",
      "AHG\n",
      "AHH\n",
      "BAA\n",
      "BAB\n",
      "BAC\n",
      "BAD\n",
      "BAE\n",
      "BAF\n",
      "BAG\n",
      "BAH\n",
      "BBA\n",
      "BBB\n",
      "BBC\n",
      "BBD\n",
      "BBE\n",
      "BBF\n",
      "BBG\n",
      "BBH\n",
      "BCA\n",
      "BCB\n",
      "BCC\n",
      "BCD\n",
      "BCE\n",
      "BCF\n",
      "BCG\n",
      "BCH\n",
      "BDA\n",
      "BDB\n",
      "BDC\n",
      "BDD\n",
      "BDE\n",
      "BDF\n",
      "BDG\n",
      "BDH\n",
      "BEA\n",
      "BEB\n",
      "BEC\n",
      "BED\n",
      "BEE\n",
      "BEF\n",
      "BEG\n",
      "BEH\n",
      "BFA\n",
      "BFB\n",
      "BFC\n",
      "BFD\n",
      "BFE\n",
      "BFF\n",
      "BFG\n",
      "BFH\n",
      "BGA\n",
      "BGB\n",
      "BGC\n",
      "BGD\n",
      "BGE\n",
      "BGF\n",
      "BGG\n",
      "BGH\n",
      "BHA\n",
      "BHB\n",
      "BHC\n",
      "BHD\n",
      "BHE\n",
      "BHF\n",
      "BHG\n",
      "BHH\n",
      "CAA\n",
      "CAB\n",
      "CAC\n",
      "CAD\n",
      "CAE\n",
      "CAF\n",
      "CAG\n",
      "CAH\n",
      "CBA\n",
      "CBB\n",
      "CBC\n",
      "CBD\n",
      "CBE\n",
      "CBF\n",
      "CBG\n",
      "CBH\n",
      "CCA\n",
      "CCB\n",
      "CCC\n",
      "CCD\n",
      "CCE\n",
      "CCF\n",
      "CCG\n",
      "CCH\n",
      "CDA\n",
      "CDB\n",
      "CDC\n",
      "CDD\n",
      "CDE\n",
      "CDF\n",
      "CDG\n",
      "CDH\n",
      "CEA\n",
      "CEB\n",
      "CEC\n",
      "CED\n",
      "CEE\n",
      "CEF\n",
      "CEG\n",
      "CEH\n",
      "CFA\n",
      "CFB\n",
      "CFC\n",
      "CFD\n",
      "CFE\n",
      "CFF\n",
      "CFG\n",
      "CFH\n",
      "CGA\n",
      "CGB\n",
      "CGC\n",
      "CGD\n",
      "CGE\n",
      "CGF\n",
      "CGG\n",
      "CGH\n",
      "CHA\n",
      "CHB\n",
      "CHC\n",
      "CHD\n",
      "CHE\n",
      "CHF\n",
      "CHG\n",
      "CHH\n",
      "DAA\n",
      "DAB\n",
      "DAC\n",
      "DAD\n",
      "DAE\n",
      "DAF\n",
      "DAG\n",
      "DAH\n",
      "DBA\n",
      "DBB\n",
      "DBC\n",
      "DBD\n",
      "DBE\n",
      "DBF\n",
      "DBG\n",
      "DBH\n",
      "DCA\n",
      "DCB\n",
      "DCC\n",
      "DCD\n",
      "DCE\n",
      "DCF\n",
      "DCG\n",
      "DCH\n",
      "DDA\n",
      "DDB\n",
      "DDC\n",
      "DDD\n",
      "DDE\n",
      "DDF\n",
      "DDG\n",
      "DDH\n",
      "DEA\n",
      "DEB\n",
      "DEC\n",
      "DED\n",
      "DEE\n",
      "DEF\n",
      "DEG\n",
      "DEH\n",
      "DFA\n",
      "DFB\n",
      "DFC\n",
      "DFD\n",
      "DFE\n",
      "DFF\n",
      "DFG\n",
      "DFH\n",
      "DGA\n",
      "DGB\n",
      "DGC\n",
      "DGD\n",
      "DGE\n",
      "DGF\n",
      "DGG\n",
      "DGH\n",
      "DHA\n",
      "DHB\n",
      "DHC\n",
      "DHD\n",
      "DHE\n",
      "DHF\n",
      "DHG\n",
      "DHH\n",
      "EAA\n",
      "EAB\n",
      "EAC\n",
      "EAD\n",
      "EAE\n",
      "EAF\n",
      "EAG\n",
      "EAH\n",
      "EBA\n",
      "EBB\n",
      "EBC\n",
      "EBD\n",
      "EBE\n",
      "EBF\n",
      "EBG\n",
      "EBH\n",
      "ECA\n",
      "ECB\n",
      "ECC\n",
      "ECD\n",
      "ECE\n",
      "ECF\n",
      "ECG\n",
      "ECH\n",
      "EDA\n",
      "EDB\n",
      "EDC\n",
      "EDD\n",
      "EDE\n",
      "EDF\n",
      "EDG\n",
      "EDH\n",
      "EEA\n",
      "EEB\n",
      "EEC\n",
      "EED\n",
      "EEE\n",
      "EEF\n",
      "EEG\n",
      "EEH\n",
      "EFA\n",
      "EFB\n",
      "EFC\n",
      "EFD\n",
      "EFE\n",
      "EFF\n",
      "EFG\n",
      "EFH\n",
      "EGA\n",
      "EGB\n",
      "EGC\n",
      "EGD\n",
      "EGE\n",
      "EGF\n",
      "EGG\n",
      "EGH\n",
      "EHA\n",
      "EHB\n",
      "EHC\n",
      "EHD\n",
      "EHE\n",
      "EHF\n",
      "EHG\n",
      "EHH\n",
      "FAA\n",
      "FAB\n",
      "FAC\n",
      "FAD\n",
      "FAE\n",
      "FAF\n",
      "FAG\n",
      "FAH\n",
      "FBA\n",
      "FBB\n",
      "FBC\n",
      "FBD\n",
      "FBE\n",
      "FBF\n",
      "FBG\n",
      "FBH\n",
      "FCA\n",
      "FCB\n",
      "FCC\n",
      "FCD\n",
      "FCE\n",
      "FCF\n",
      "FCG\n",
      "FCH\n",
      "FDA\n",
      "FDB\n",
      "FDC\n",
      "FDD\n",
      "FDE\n",
      "FDF\n",
      "FDG\n",
      "FDH\n",
      "FEA\n",
      "FEB\n",
      "FEC\n",
      "FED\n",
      "FEE\n",
      "FEF\n",
      "FEG\n",
      "FEH\n",
      "FFA\n",
      "FFB\n",
      "FFC\n",
      "FFD\n",
      "FFE\n",
      "FFF\n",
      "FFG\n",
      "FFH\n",
      "FGA\n",
      "FGB\n",
      "FGC\n",
      "FGD\n",
      "FGE\n",
      "FGF\n",
      "FGG\n",
      "FGH\n",
      "FHA\n",
      "FHB\n",
      "FHC\n",
      "FHD\n",
      "FHE\n",
      "FHF\n",
      "FHG\n",
      "FHH\n",
      "GAA\n",
      "GAB\n",
      "GAC\n",
      "GAD\n",
      "GAE\n",
      "GAF\n",
      "GAG\n",
      "GAH\n",
      "GBA\n",
      "GBB\n",
      "GBC\n",
      "GBD\n",
      "GBE\n",
      "GBF\n",
      "GBG\n",
      "GBH\n",
      "GCA\n",
      "GCB\n",
      "GCC\n",
      "GCD\n",
      "GCE\n",
      "GCF\n",
      "GCG\n",
      "GCH\n",
      "GDA\n",
      "GDB\n",
      "GDC\n",
      "GDD\n",
      "GDE\n",
      "GDF\n",
      "GDG\n",
      "GDH\n",
      "GEA\n",
      "GEB\n",
      "GEC\n",
      "GED\n",
      "GEE\n",
      "GEF\n",
      "GEG\n",
      "GEH\n",
      "GFA\n",
      "GFB\n",
      "GFC\n",
      "GFD\n",
      "GFE\n",
      "GFF\n",
      "GFG\n",
      "GFH\n",
      "GGA\n",
      "GGB\n",
      "GGC\n",
      "GGD\n",
      "GGE\n",
      "GGF\n",
      "GGG\n",
      "GGH\n",
      "GHA\n",
      "GHB\n",
      "GHC\n",
      "GHD\n",
      "GHE\n",
      "GHF\n",
      "GHG\n",
      "GHH\n",
      "HAA\n",
      "HAB\n",
      "HAC\n",
      "HAD\n",
      "HAE\n",
      "HAF\n",
      "HAG\n",
      "HAH\n",
      "HBA\n",
      "HBB\n",
      "HBC\n",
      "HBD\n",
      "HBE\n",
      "HBF\n",
      "HBG\n",
      "HBH\n",
      "HCA\n",
      "HCB\n",
      "HCC\n",
      "HCD\n",
      "HCE\n",
      "HCF\n",
      "HCG\n",
      "HCH\n",
      "HDA\n",
      "HDB\n",
      "HDC\n",
      "HDD\n",
      "HDE\n",
      "HDF\n",
      "HDG\n",
      "HDH\n",
      "HEA\n",
      "HEB\n",
      "HEC\n",
      "HED\n",
      "HEE\n",
      "HEF\n",
      "HEG\n",
      "HEH\n",
      "HFA\n",
      "HFB\n",
      "HFC\n",
      "HFD\n",
      "HFE\n",
      "HFF\n",
      "HFG\n",
      "HFH\n",
      "HGA\n",
      "HGB\n",
      "HGC\n",
      "HGD\n",
      "HGE\n",
      "HGF\n",
      "HGG\n",
      "HGH\n",
      "HHA\n",
      "HHB\n",
      "HHC\n",
      "HHD\n",
      "HHE\n",
      "HHF\n",
      "HHG\n",
      "HHH\n"
     ]
    }
   ],
   "source": [
    "alphabet, k = read_file(\"rosalind_lexf.txt\").split(\"\\n\")\n",
    "for kmer in enumerate_kmers(alphabet.split(), int(k)):\n",
    "  print(\"\".join(kmer))"
   ]
  },
  {
   "cell_type": "markdown",
   "metadata": {},
   "source": [
    "## k-Mer Composition"
   ]
  },
  {
   "cell_type": "code",
   "execution_count": 260,
   "metadata": {},
   "outputs": [],
   "source": [
    "def kmer_composition(s: str, k = 4):\n",
    "  kmers = [\"\".join(kmer) for kmer in enumerate_kmers([\"A\", \"C\", \"G\", \"T\"], k)]\n",
    "\n",
    "  counts = {kmer: 0 for kmer in kmers}\n",
    "  for i in range(len(s) - k + 1):\n",
    "    kmer = s[i:i + k]\n",
    "    counts[kmer] += 1\n",
    "\n",
    "  return list(counts.values())"
   ]
  },
  {
   "cell_type": "code",
   "execution_count": 261,
   "metadata": {},
   "outputs": [
    {
     "name": "stdout",
     "output_type": "stream",
     "text": [
      "304 308 310 290 310 319 313 329 305 314 322 346 302 320 323 303 330 318 296 309 326 319 311 317 308 313 286 305 321 308 308 323 326 308 325 324 298 307 332 311 337 301 336 290 334 308 283 320 318 300 306 310 258 336 368 295 300 314 318 296 320 296 322 336 319 336 341 298 333 309 263 313 325 319 320 315 301 294 273 306 347 281 308 294 310 331 313 312 340 299 331 283 293 323 325 314 306 292 341 345 307 293 311 307 307 329 351 323 297 313 333 302 313 328 311 324 320 284 304 314 299 321 311 292 280 333 320 296 310 312 322 325 305 314 318 320 327 305 337 287 322 324 324 350 304 301 343 299 300 301 315 310 313 310 344 315 332 299 308 294 315 359 311 340 318 316 311 302 335 318 344 333 288 333 298 325 308 330 280 300 319 297 337 297 306 313 307 296 324 323 319 292 279 315 314 335 305 331 318 298 326 310 285 297 309 319 308 314 313 318 332 272 294 315 314 316 323 296 349 342 330 292 282 298 322 298 279 311 324 310 328 313 346 299 299 298 299 296 308 311 304 294 321 316 338 323 301 296 305 327 306 330 311 306 307 318\n"
     ]
    }
   ],
   "source": [
    "print(\" \".join(map(str, kmer_composition(read_fasta(\"rosalind_kmer.txt\")))))"
   ]
  },
  {
   "cell_type": "markdown",
   "metadata": {},
   "source": [
    "## Finding a Shared Spliced Motif"
   ]
  },
  {
   "cell_type": "code",
   "execution_count": 567,
   "metadata": {},
   "outputs": [],
   "source": [
    "def find_shared_spliced_motif(s: str, t: str):\n",
    "  m = len(s) + 1\n",
    "  n = len(t) + 1\n",
    "\n",
    "  table = [[0] * n for _ in range(m)]\n",
    "\n",
    "  for i in range(1, m):\n",
    "    for j in range(1, n):\n",
    "      table[i][j] = max(\n",
    "        table[i][j - 1],\n",
    "        table[i - 1][j],\n",
    "        table[i - 1][j - 1] + (s[i - 1] == t[j - 1]),\n",
    "      )\n",
    "\n",
    "  lcs = []\n",
    "  i, j = m - 1, n - 1\n",
    "  while i > 0 and j > 0:\n",
    "    if s[i - 1] == t[j - 1]:\n",
    "      lcs.append(s[i - 1])\n",
    "      i -= 1\n",
    "      j -= 1\n",
    "    elif table[i - 1][j] > table[i][j - 1]:\n",
    "      i -= 1\n",
    "    else:\n",
    "      j -= 1\n",
    "\n",
    "  return \"\".join(reversed(lcs))"
   ]
  },
  {
   "cell_type": "code",
   "execution_count": 568,
   "metadata": {},
   "outputs": [
    {
     "name": "stdout",
     "output_type": "stream",
     "text": [
      "GATTAAATAACGGTTGCGTCCTGGGCATCGGGACGAACCTAATGGGAAAGCAAGACGGTTGGTTTGGACGCGATTAAACTTATTTTGTTGCCTGAGCGGCACTATGTACTGGGCATTCGGGTGACTTGACGATCAGCTCAGGGCATTTTACGCTTCGTCGGGCATTGTGAGCGTTACCTATTGTCTGGCCAAAAGAACGTAATGAAGTTACCCACCGCGTTTCTTATTAATTGTCTGCCTGCACCATCGGCTACATGCAAATCTCGAGGCGAATAAAAACCGCATCCGTTACATGGGCATAAGAATCGTGCCATTGATGACATAAATGAAAGATGCAATATCATATTTACCACTTGCACGAAATAATTTCCCCCTACCCCATGTTCACCTGATGGCGGGATGTGACTCTCCTGGCCATTAATATATTTAGTCCTCTGATGGCTAGAGCATGGGGAGTGGAGGATGATGGTCTTCAATCCTTCGGAGTAATTGTTAAGGCTTCTACATACTGGTAGCAACCGCTAGCGGTAGGCGGACCTAAGTCATCCCCGCCCCGATTGCTGTATAGAGGGGAA\n"
     ]
    }
   ],
   "source": [
    "print(find_shared_spliced_motif(*read_fasta(\"rosalind_lcsq.txt\").split(\"\\n\")))"
   ]
  },
  {
   "cell_type": "markdown",
   "metadata": {},
   "source": [
    "## Edit Distance"
   ]
  },
  {
   "cell_type": "code",
   "execution_count": 569,
   "metadata": {},
   "outputs": [],
   "source": [
    "def edit_distance(s: str, t: str):\n",
    "  m = len(s) + 1\n",
    "  n = len(t) + 1\n",
    "\n",
    "  table = [[0] * n for _ in range(m)]\n",
    "  for i in range(m):\n",
    "    table[i][0] = i\n",
    "  for j in range(n):\n",
    "    table[0][j] = j\n",
    "\n",
    "  for i in range(1, m):\n",
    "    for j in range(1, n):\n",
    "      table[i][j] = min(\n",
    "        table[i][j - 1] + 1,\n",
    "        table[i - 1][j] + 1,\n",
    "        table[i - 1][j - 1] + (s[i - 1] != t[j - 1]),\n",
    "      )\n",
    "\n",
    "  return table[-1][-1]"
   ]
  },
  {
   "cell_type": "code",
   "execution_count": 571,
   "metadata": {},
   "outputs": [
    {
     "name": "stdout",
     "output_type": "stream",
     "text": [
      "418\n"
     ]
    }
   ],
   "source": [
    "print(edit_distance(*read_fasta(\"rosalind_edit.txt\").split(\"\\n\")))"
   ]
  },
  {
   "cell_type": "markdown",
   "metadata": {},
   "source": [
    "## Edit Distance Alignment"
   ]
  },
  {
   "cell_type": "code",
   "execution_count": 629,
   "metadata": {},
   "outputs": [],
   "source": [
    "def align(s: str, t: str):\n",
    "  m = len(s) + 1\n",
    "  n = len(t) + 1\n",
    "\n",
    "  table = [[0] * n for _ in range(m)]\n",
    "  for i in range(m):\n",
    "    table[i][0] = i\n",
    "  for j in range(n):\n",
    "    table[0][j] = j\n",
    "\n",
    "  for i in range(1, m):\n",
    "    for j in range(1, n):\n",
    "      table[i][j] = min(\n",
    "        table[i][j - 1] + 1,\n",
    "        table[i - 1][j] + 1,\n",
    "        table[i - 1][j - 1] + (s[i - 1] != t[j - 1]),\n",
    "      )\n",
    "\n",
    "  i, j = m - 1, n - 1\n",
    "  s_aligned = []\n",
    "  t_aligned = []\n",
    "  while i > 0 and j > 0:\n",
    "    if table[i][j] == table[i - 1][j - 1] + (s[i - 1] != t[j - 1]):\n",
    "      s_aligned.append(s[i - 1])\n",
    "      t_aligned.append(t[j - 1])\n",
    "      i -= 1\n",
    "      j -= 1\n",
    "    elif table[i][j] == table[i - 1][j] + 1:\n",
    "      s_aligned.append(s[i - 1])\n",
    "      t_aligned.append(\"-\")\n",
    "      i -= 1\n",
    "    else:\n",
    "      s_aligned.append(\"-\")\n",
    "      t_aligned.append(t[j - 1])\n",
    "      j -= 1\n",
    "\n",
    "  return table[-1][-1], \"\".join(reversed(s_aligned)), \"\".join(reversed(t_aligned))"
   ]
  },
  {
   "cell_type": "code",
   "execution_count": 630,
   "metadata": {},
   "outputs": [
    {
     "name": "stdout",
     "output_type": "stream",
     "text": [
      "349\n",
      "RKAYDKVPT----FPLMEEENCQWRPWYNSATENEGPSRCYYGK---T-PIDALTNA--------MAPGTDFHSDT-G----IGTT-RGQSYTFWFQTVRANPKHGDTSWCWWCMVRMIVRPDEMHIMEIYNDAQYMVSLCRVDLHHTPPHWPMTAAHVCMCATGVWGGYFVEPVRECQIRIQDGIADKKDHPRNCMPTSQMLTHHQWHPDGEICDVIYDVHQEIWE-YQSNITNGMRYPVMMLCREYMGILTDCPHMETHITTAQIQFHPSSEGQPPDTPSGDSTKYNKMIMRLVHWHLIISCL--RLYAERGRCCFIASRQWFQWKKASEEIS--NFPRRYG---LDKVFNMESQWIV-CMDLRAIPPYARWSHE-----VSSHWRG--W---Q--------EN--SKKY---ALCSWGFRQVMT-------TNKHRFWDHT-----HAMYRRIVGNVWNRATT----V--NHEMQVVT-------GMGDSRAHWPA-YHDVMLRYRPECADSNVFATPQIPAAFAKGIRNPM-YYREIMLIGICRYRVFHKPTEAS-A--SDAVDCGCPKRYAPINQYSCDTGEQMESRVLAGRS---LH---RMSVAKLLPVAENNRRQVKRHANHLLKIA----QPMHCVDQAYPGCNGPDNRFEIPDNFGGMLERFSPMKYLYCSWNSVLIIDDYKSQPIRMVNCRPPPEKCYRSQAMMQWCSDNPRDDGSGCPEFIFLWYDADEPKKHKFDCYWYWKGECVAAMKVKYSRKFYYTVGDLVEHDCNMLPKIKEVGL---TQSMPHTRWDEGENYSVSGNVRRTIRRPQFHENQEHANVHLITWSAERCMSDGGKSGGDRKMRGVMDMRLFSHICYGRNNIRRPCRDQVSMGYALTWHRCIFEAEINPICCSATRVMITWSDWFQTLITVWPEDMLHFWDQSMTCPLHEHMAG\n",
      "RKAYDLVPTERIAKQDVGLEN-GWRPLYNSATENEGPSRCYYGKNYITCPIDCLTNAEGNRPKFPMAPGTDFHSNTAGCLMQIGTTLEGQSYTFLFQTDRANPKHGDTSGCKCRMVQMIVRPDEMHIMMIYN--VGM--KRDVALHH-APVPCSTAAHVCGCATGVWGGYFTEPVRECQIRIQDGIADKKDHPRNCMPNSVMLTHHQWHPDHEICD-IYDVHQEIWEAWQSNITNGMRYPVMMLCREYTGI----PHME----T-----HPSSEGQPPDTPSGDSTKYNKMI-------EIISCLQDISYAE----CFIASRQRFQFKKASEEWSMAYMPRRYGFINLDKVFDMESQWIVSHNIFLAIPDYAQWSHESMSMMVSSHWRGWQWHIYQCPDNYLCVANVTDKKYEDPCLCSWGFRQVHTHGNWGFHPNKHRFWDHTQCMSSEAMYRRIVGNVWNRATTNHQDVSWKYIMQLWTNNFPYWDSSGDSRAHWPANNHDVCLRYRPECADSNV-NDYDLTSAFAKGIRNPMCTVRE---IG-------HKPT-ASQAVPKWASCCICPKRYAEINQYSCDTGEQMESLVLAGRSYDNYHFCNRMRVAKLLPVASNNDRQVKRHANHLLKIAHCCWDNMWLVDQAYPYCNGPDN------NMGTMLERPSPMK--Y------LIIDDYKSQPIRMV--RPPPEKHYRSQAMMQ----------S------WL-Y-LCE-MK-KFDCYVYWKGECVAAMKVKYSRKFYYAVG---------LPKIKEVGLWMPFQDKPHTRWDEGENYSVSGNHRRTIRRPQDH---E--N----TWSAERYMSDGGKSGGDRECRGVYDDFCRNGFVIG-DDIRRPCRDQVSMGYA------DF--GYN--DQTWHR-CI--AERFQTLITVWPEDML--SPVSMTCPLHEHMAG\n"
     ]
    }
   ],
   "source": [
    "print(*align(*read_fasta(\"rosalind_edta.txt\").split(\"\\n\")), sep=\"\\n\")"
   ]
  },
  {
   "cell_type": "markdown",
   "metadata": {},
   "source": [
    "## Counting Optimal Alignments"
   ]
  },
  {
   "cell_type": "code",
   "execution_count": 636,
   "metadata": {},
   "outputs": [],
   "source": [
    "def count_optimal_alignments(s: str, t: str):\n",
    "  # TODO\n",
    "  return s, t"
   ]
  },
  {
   "cell_type": "code",
   "execution_count": 637,
   "metadata": {},
   "outputs": [
    {
     "name": "stdout",
     "output_type": "stream",
     "text": [
      "('PLEASANTLY', 'MEANLY')\n"
     ]
    }
   ],
   "source": [
    "print(count_optimal_alignments(*read_fasta(\"rosalind_ctea.txt\").split(\"\\n\")))"
   ]
  },
  {
   "cell_type": "code",
   "execution_count": null,
   "metadata": {},
   "outputs": [],
   "source": []
  }
 ],
 "metadata": {
  "kernelspec": {
   "display_name": ".venv",
   "language": "python",
   "name": "python3"
  },
  "language_info": {
   "codemirror_mode": {
    "name": "ipython",
    "version": 3
   },
   "file_extension": ".py",
   "mimetype": "text/x-python",
   "name": "python",
   "nbconvert_exporter": "python",
   "pygments_lexer": "ipython3",
   "version": "3.11.9"
  }
 },
 "nbformat": 4,
 "nbformat_minor": 2
}
